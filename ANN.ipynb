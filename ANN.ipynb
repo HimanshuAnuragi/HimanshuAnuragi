{
  "nbformat": 4,
  "nbformat_minor": 0,
  "metadata": {
    "colab": {
      "name": "ANN.ipynb",
      "provenance": [],
      "collapsed_sections": [],
      "include_colab_link": true
    },
    "kernelspec": {
      "name": "python3",
      "display_name": "Python 3"
    },
    "language_info": {
      "name": "python"
    }
  },
  "cells": [
    {
      "cell_type": "markdown",
      "metadata": {
        "id": "view-in-github",
        "colab_type": "text"
      },
      "source": [
        "<a href=\"https://colab.research.google.com/github/HimanshuAnuragi/HimanshuAnuragi/blob/main/ANN.ipynb\" target=\"_parent\"><img src=\"https://colab.research.google.com/assets/colab-badge.svg\" alt=\"Open In Colab\"/></a>"
      ]
    },
    {
      "cell_type": "code",
      "source": [
        "[0,0] -> [0]\n",
        "[0,1] -> [1]"
      ],
      "metadata": {
        "id": "0nLaHnmE_LMd"
      },
      "execution_count": null,
      "outputs": []
    },
    {
      "cell_type": "code",
      "source": [
        "import numpy as np\n",
        "from keras.models import Sequential\n",
        "from keras.layers.core import Dense\n",
        "\n",
        "training_data = np.array([[0,0],[0,1],[1,0],[1,1]], \"float32\")\n",
        "target_data = np.array([[1],[1],[1],[0]], \"float32\")\n",
        "model = Sequential()\n",
        "model.add(Dense(16, input_dim=2, activation='relu'))\n",
        "model.add(Dense(1, activation='sigmoid'))\n",
        "model.compile(loss='mean_squared_error',\n",
        "optimizer='adam',\n",
        "metrics=['binary_accuracy'])\n",
        "model.fit(training_data, target_data, epochs=100)\n",
        "scores = model.evaluate(training_data, target_data)\n",
        "\n",
        "print(\"\\n%s: %.2f%%\" % (model.metrics_names[1], scores[1]*100))\n",
        "print (model.predict(training_data).round())"
      ],
      "metadata": {
        "id": "-mp9r_0d9Dz3"
      },
      "execution_count": null,
      "outputs": []
    },
    {
      "cell_type": "code",
      "source": [
        "import numpy as np\n",
        "from keras.models import Sequential\n",
        "from keras.layers.core import Dense"
      ],
      "metadata": {
        "id": "bYjBUOpa_fr0"
      },
      "execution_count": null,
      "outputs": []
    },
    {
      "cell_type": "code",
      "source": [
        "model = Sequential() # Intialise input...\n",
        "model.add(Dense(5, input_dim=2, activation='relu')) # Hidden layer...\n",
        "model.add(Dense(7, activation='relu'))\n",
        "model.add(Dense(1, activation='sigmoid')) # Output neuron..."
      ],
      "metadata": {
        "id": "Oeus14v9_4va"
      },
      "execution_count": null,
      "outputs": []
    },
    {
      "cell_type": "code",
      "source": [
        "model.summary()"
      ],
      "metadata": {
        "id": "UTjEjkaAES-b"
      },
      "execution_count": null,
      "outputs": []
    },
    {
      "cell_type": "code",
      "source": [
        "model.compile(loss='mean_squared_error',\n",
        "optimizer='adam',\n",
        "metrics=['binary_accuracy'])"
      ],
      "metadata": {
        "id": "OJOPTMkLBlcc"
      },
      "execution_count": null,
      "outputs": []
    },
    {
      "cell_type": "code",
      "source": [
        "training_data = np.array([[0,0],[0,1],[1,0],[1,1]], \"float32\")\n",
        "target_data = np.array([[0],[1],[1],[0]], \"float32\")"
      ],
      "metadata": {
        "id": "qstcvgfsDG0R"
      },
      "execution_count": null,
      "outputs": []
    },
    {
      "cell_type": "code",
      "source": [
        "model.fit(training_data, target_data, epochs=100)\n",
        "scores = model.evaluate(training_data, target_data)"
      ],
      "metadata": {
        "id": "Us8vU9LLCO02"
      },
      "execution_count": null,
      "outputs": []
    },
    {
      "cell_type": "code",
      "source": [
        "print(\"\\n%s: %.2f%%\" % (model.metrics_names[1], scores[1]*100))\n",
        "print (model.predict(training_data).round())"
      ],
      "metadata": {
        "colab": {
          "base_uri": "https://localhost:8080/"
        },
        "id": "uKD1PIrCDTc-",
        "outputId": "9a2a5ae9-151e-44f6-dc1b-0a663385f430"
      },
      "execution_count": null,
      "outputs": [
        {
          "output_type": "stream",
          "name": "stdout",
          "text": [
            "\n",
            "binary_accuracy: 75.00%\n",
            "[[0.]\n",
            " [0.]\n",
            " [1.]\n",
            " [0.]]\n"
          ]
        }
      ]
    },
    {
      "cell_type": "code",
      "source": [
        "target_data"
      ],
      "metadata": {
        "colab": {
          "base_uri": "https://localhost:8080/"
        },
        "id": "ScSqpi9YFM5E",
        "outputId": "d61bd697-b847-4a45-ea51-a59e7c323632"
      },
      "execution_count": null,
      "outputs": [
        {
          "output_type": "execute_result",
          "data": {
            "text/plain": [
              "array([[0.],\n",
              "       [1.],\n",
              "       [1.],\n",
              "       [0.]], dtype=float32)"
            ]
          },
          "metadata": {},
          "execution_count": 23
        }
      ]
    },
    {
      "cell_type": "code",
      "source": [
        "training_data = np.array([[1.5,1.6],[1,0],[1,0],[1,1]], \"float32\")\n",
        "target_data = np.array([[1],[0],[1],[0]], \"float32\")"
      ],
      "metadata": {
        "id": "2Ui3bUHn_lKF"
      },
      "execution_count": null,
      "outputs": []
    },
    {
      "cell_type": "code",
      "source": [
        "print (model.predict(training_data).round())"
      ],
      "metadata": {
        "colab": {
          "base_uri": "https://localhost:8080/"
        },
        "id": "kYLdI16K_rT1",
        "outputId": "3dcfa8ed-385f-41be-d3ab-e10ee0319593"
      },
      "execution_count": null,
      "outputs": [
        {
          "output_type": "stream",
          "name": "stdout",
          "text": [
            "[[0.]\n",
            " [1.]\n",
            " [1.]\n",
            " [0.]]\n"
          ]
        }
      ]
    },
    {
      "cell_type": "code",
      "execution_count": null,
      "metadata": {
        "colab": {
          "base_uri": "https://localhost:8080/",
          "height": 349
        },
        "id": "KRRGcusM40Eg",
        "outputId": "1e0a3c68-02c6-46d2-ca59-1db9aee5404f"
      },
      "outputs": [
        {
          "output_type": "stream",
          "name": "stdout",
          "text": [
            "Downloading data from https://storage.googleapis.com/tensorflow/tf-keras-datasets/mnist.npz\n",
            "11493376/11490434 [==============================] - 0s 0us/step\n",
            "11501568/11490434 [==============================] - 0s 0us/step\n"
          ]
        },
        {
          "output_type": "display_data",
          "data": {
            "image/png": "[encoded data removed]",
            "text/plain": [
              "<Figure size 432x288 with 9 Axes>"
            ]
          },
          "metadata": {
            "needs_background": "light"
          }
        }
      ],
      "source": [
        "# importing libraries\n",
        "import numpy as np\n",
        "from tensorflow import keras\n",
        "from keras.datasets import mnist\n",
        "import matplotlib.pyplot as plt\n",
        "\n",
        "#loading dataset\n",
        "(train_X, train_y), (val_X, val_y) = mnist.load_data()\n",
        "\n",
        "#normalizing the dataset\n",
        "train_X, val_X = train_X/255, val_X/255\n",
        "\n",
        "# visualizing 9 rndom digits from the dataset\n",
        "for i in range(331,340):\n",
        "    plt.subplot(i)\n",
        "    a = np.random.randint(0, train_X.shape[0], 1)\n",
        "    plt.imshow(train_X[a[0]], cmap = plt.get_cmap('binary'))\n",
        "\n",
        "plt.tight_layout()\n",
        "plt.show()"
      ]
    },
    {
      "cell_type": "code",
      "source": [
        "# importing the libraries\n",
        "import tensorflow.keras.layers as layers\n",
        "from tensorflow.keras.models import Model\n",
        "from tensorflow.keras.models import Sequential\n",
        "from tensorflow.keras.layers import Conv2D, MaxPool2D, Dense, Flatten\n",
        "\n",
        "#defining function for building the model\n",
        "def create_model(input_shape = (28,28,1)):\n",
        "    model = keras.Sequential([\n",
        "    layers.Conv2D(filters = 32, kernel_size = 3, activation = 'relu', padding = 'same', input_shape = input_shape),\n",
        "    layers.MaxPool2D(pool_size = 2),\n",
        "    \n",
        "    layers.Conv2D(filters = 64, kernel_size = 3, activation = 'relu', padding = 'same'),\n",
        "    layers.MaxPool2D(pool_size = 2),\n",
        "    \n",
        "    layers.Conv2D(filters = 128, kernel_size = 3, activation = 'relu', padding = 'same'),\n",
        "    layers.MaxPool2D(pool_size = 2),\n",
        "    \n",
        "    layers.Flatten(),\n",
        "    layers.Dense(units = 54, activation = 'relu'),\n",
        "    layers.Dense(units = 10, activation = 'softmax')])\n",
        "    \n",
        "    return model"
      ],
      "metadata": {
        "id": "ae34H-8f44ly"
      },
      "execution_count": null,
      "outputs": []
    },
    {
      "cell_type": "code",
      "source": [
        "def compile_model(model, optimizer='adam', loss='categorical_crossentropy'):\n",
        "    model.compile(optimizer=optimizer, loss=loss, metrics=[\"accuracy\"])"
      ],
      "metadata": {
        "id": "pr4kbx455HN7"
      },
      "execution_count": null,
      "outputs": []
    },
    {
      "cell_type": "code",
      "source": [
        "def fitting_model(model, x, y, epoch):\n",
        "    model.fit(x,y, shuffle = True, epochs = epoch)"
      ],
      "metadata": {
        "id": "OecSsi-I5JRe"
      },
      "execution_count": null,
      "outputs": []
    },
    {
      "cell_type": "code",
      "source": [
        "#reshaping the independant variables\n",
        "train_X = train_X.reshape(train_X.shape[0], 28, 28, 1)\n",
        "val_X = val_X .reshape(val_X.shape[0], 28, 28, 1)\n",
        "\n",
        "#encoding the dependant variable\n",
        "train_y = np.eye(10)[train_y]\n",
        "val_y = np.eye(10)[val_y]\n",
        "\n",
        "#creating model\n",
        "model = create_model((28,28,1))\n",
        "#optimizing model\n",
        "compile_model(model, 'adam', 'categorical_crossentropy')\n",
        "\n",
        "#training model\n",
        "history = model.fit(train_X, train_y, validation_data = (val_X, val_y), batch_size = 200, epochs = 5)\n",
        "model.save(\"cnn_digitclass.model\") #model will be save in root folder to be later called out for prediction\n"
      ],
      "metadata": {
        "colab": {
          "base_uri": "https://localhost:8080/",
          "height": 236
        },
        "id": "rxiD1HNg5OMu",
        "outputId": "e055c2b7-0cbd-4bf2-82ea-b13657240802"
      },
      "execution_count": null,
      "outputs": [
        {
          "output_type": "error",
          "ename": "IndexError",
          "evalue": "ignored",
          "traceback": [
            "\u001b[0;31m---------------------------------------------------------------------------\u001b[0m",
            "\u001b[0;31mIndexError\u001b[0m                                Traceback (most recent call last)",
            "\u001b[0;32m<ipython-input-29-9ad569ca9a7f>\u001b[0m in \u001b[0;36m<module>\u001b[0;34m()\u001b[0m\n\u001b[1;32m      4\u001b[0m \u001b[0;34m\u001b[0m\u001b[0m\n\u001b[1;32m      5\u001b[0m \u001b[0;31m#encoding the dependant variable\u001b[0m\u001b[0;34m\u001b[0m\u001b[0;34m\u001b[0m\u001b[0;34m\u001b[0m\u001b[0m\n\u001b[0;32m----> 6\u001b[0;31m \u001b[0mtrain_y\u001b[0m \u001b[0;34m=\u001b[0m \u001b[0mnp\u001b[0m\u001b[0;34m.\u001b[0m\u001b[0meye\u001b[0m\u001b[0;34m(\u001b[0m\u001b[0;36m10\u001b[0m\u001b[0;34m)\u001b[0m\u001b[0;34m[\u001b[0m\u001b[0mtrain_y\u001b[0m\u001b[0;34m]\u001b[0m\u001b[0;34m\u001b[0m\u001b[0;34m\u001b[0m\u001b[0m\n\u001b[0m\u001b[1;32m      7\u001b[0m \u001b[0mval_y\u001b[0m \u001b[0;34m=\u001b[0m \u001b[0mnp\u001b[0m\u001b[0;34m.\u001b[0m\u001b[0meye\u001b[0m\u001b[0;34m(\u001b[0m\u001b[0;36m10\u001b[0m\u001b[0;34m)\u001b[0m\u001b[0;34m[\u001b[0m\u001b[0mval_y\u001b[0m\u001b[0;34m]\u001b[0m\u001b[0;34m\u001b[0m\u001b[0;34m\u001b[0m\u001b[0m\n\u001b[1;32m      8\u001b[0m \u001b[0;34m\u001b[0m\u001b[0m\n",
            "\u001b[0;31mIndexError\u001b[0m: arrays used as indices must be of integer (or boolean) type"
          ]
        }
      ]
    },
    {
      "cell_type": "code",
      "source": [
        "#model performance visualization\n",
        "f = plt.figure(figsize=(20,8))\n",
        "\n",
        "#accuracy\n",
        "plt1 = f.add_subplot(121)\n",
        "plt1.plot(history.history['accuracy'], label = str('Training accuracy'))\n",
        "plt1.plot(history.history['val_accuracy'], label = str('Validation accuracy'))\n",
        "plt.legend()\n",
        "plt.title('accuracy')\n",
        "\n",
        "#loss\n",
        "plt2 = f.add_subplot(122)\n",
        "plt2.plot(history.history['loss'], label = str('Training loss'))\n",
        "plt2.plot(history.history['val_loss'], label = str('Validation loss'))\n",
        "plt.legend()\n",
        "plt.title('loss')\n",
        "\n",
        "plt.show()"
      ],
      "metadata": {
        "colab": {
          "base_uri": "https://localhost:8080/",
          "height": 352
        },
        "id": "Hh5er1w55XFg",
        "outputId": "901fb648-0eae-4ddc-a955-bac3053b5d60"
      },
      "execution_count": null,
      "outputs": [
        {
          "output_type": "display_data",
          "data": {
            "image/png": "[encoded data removed]",
            "text/plain": [
              "<Figure size 1440x576 with 2 Axes>"
            ]
          },
          "metadata": {
            "needs_background": "light"
          }
        }
      ]
    },
    {
      "cell_type": "code",
      "source": [
        "#importing and processing input image\n",
        "import cv2\n",
        "img = cv2.imread(\"sample_img.jpg\") #loading input image\n",
        "img = cv2.resize(img, (28, 28), interpolation = cv2.INTER_AREA) #resizing to input shape\n",
        "img = cv2.cvtColor(img, cv2.COLOR_BGR2GRAY) #chaging to grayscale format\n",
        "img = cv2.bitwise_not(img) #the color scale was inverted, correcting inverted color scale\n",
        "img = cv2.Canny(img, 50, 50) # removing noise\n",
        "\n",
        "predict_data = np.array([img])/255 #changing image data to array\n",
        "predict_data = predict_data.reshape(1,28, 28, 1) #reshaping to input shape\n",
        "\n",
        "#predicting the input \n",
        "from tensorflow.keras import models\n",
        "model = models.load_model('cnn_digitclass.model') #loading pre-savedd model\n",
        "prediction = model.predict(predict_data) #gives array\n",
        "predicted_number = np.argmax(prediction) #extracts predicted number"
      ],
      "metadata": {
        "id": "WQRdXtRQ5nak"
      },
      "execution_count": null,
      "outputs": []
    }
  ]
}